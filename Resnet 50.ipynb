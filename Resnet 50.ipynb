{
 "cells": [
  {
   "cell_type": "code",
   "execution_count": 1,
   "id": "greater-output",
   "metadata": {},
   "outputs": [],
   "source": [
    "import tensorflow as tf"
   ]
  },
  {
   "cell_type": "markdown",
   "id": "valid-porter",
   "metadata": {},
   "source": [
    "# Building blocks"
   ]
  },
  {
   "cell_type": "code",
   "execution_count": 2,
   "id": "brief-gazette",
   "metadata": {},
   "outputs": [],
   "source": [
    "\"\"\"Tensorflow-Keras Implementation of Mish\"\"\"\n",
    "# Took from this https://gist.github.com/ypeleg/3af35d07d7f659f387952c9843849772\n",
    "## Import Necessary Modules\n",
    "from tensorflow.keras.layers import Activation\n",
    "from tensorflow.keras.utils import get_custom_objects\n",
    "\n",
    "class Mish(Activation):\n",
    "    '''\n",
    "    Mish Activation Function.\n",
    "    .. math::\n",
    "        mish(x) = x * tanh(softplus(x)) = x * tanh(ln(1 + e^{x}))\n",
    "    Shape:\n",
    "        - Input: Arbitrary. Use the keyword argument `input_shape`\n",
    "        (tuple of integers, does not include the samples axis)\n",
    "        when using this layer as the first layer in a model.\n",
    "        - Output: Same shape as the input.\n",
    "    Examples:\n",
    "        >>> X = Activation('Mish', name=\"conv1_act\")(X_input)\n",
    "    '''\n",
    "\n",
    "    def __init__(self, activation, **kwargs):\n",
    "        super(Mish, self).__init__(activation, **kwargs)\n",
    "        self.__name__ = 'Mish'\n",
    "\n",
    "\n",
    "def mish(inputs):\n",
    "    return inputs * tf.math.tanh(tf.math.softplus(inputs))\n",
    "\n",
    "get_custom_objects().update({'mish': Mish(mish)})"
   ]
  },
  {
   "cell_type": "code",
   "execution_count": 3,
   "id": "social-banana",
   "metadata": {},
   "outputs": [],
   "source": [
    "''' \n",
    "Build the blocks required for resnet, uses 2 blocks:\n",
    "1) Identity block \n",
    "2) Convolutional block\n",
    "'''\n",
    "def identity_block(X, f, filters, stage, block):\n",
    "    '''\n",
    "    Implementation of an identity block \n",
    "    \n",
    "    Args:\n",
    "        X(input_tensor) : input tensor of shape (m, n_h_prev, n_w_prev, n_c_prev)\n",
    "        f(int): this is to specify the kernel size or window for the main path within the identiy block\n",
    "        filters(list): list of integers to define for the Conv layers of the main path\n",
    "        stage(int): use to name the layers depending of their position\n",
    "        block(str): used to name layer, depending on their position in the network\n",
    "        \n",
    "    Returns:\n",
    "        X(tensor): output of the identity block, tensor of shape (n_H, n_W, n_C)\n",
    "    '''\n",
    "    \n",
    "    # Start by defining name base\n",
    "    conv_name_base = 'res' + str(stage) + block + '_branch'\n",
    "    bn_name_base = 'bn' + str(stage) + block + '_branch'\n",
    "    \n",
    "    F1, F2, F3 = filters\n",
    "    \n",
    "    X_shortcut = X\n",
    "    \n",
    "    # First component of main path\n",
    "    X = tf.keras.layers.Conv2D(\n",
    "        filters=F1, kernel_size=(1, 1), strides=(1,1), padding='valid',\n",
    "        name=conv_name_base + '2a'\n",
    "    )(X)\n",
    "    X = tf.keras.layers.BatchNormalization(axis=3, name=bn_name_base + '2a')(X)\n",
    "    X = tf.keras.layers.Activation('mish')(X)\n",
    "    \n",
    "    # Second component of main path\n",
    "    X = tf.keras.layers.Conv2D(\n",
    "        filters=F2, kernel_size=(f, f), strides = (1,1), padding = 'same',\n",
    "        name = conv_name_base + '2b'\n",
    "    )(X)\n",
    "    X = tf.keras.layers.BatchNormalization(axis=3, name=bn_name_base + '2b')(X)\n",
    "    X = tf.keras.layers.Activation('mish')(X)\n",
    "    \n",
    "    # Third component of main path\n",
    "    X = tf.keras.layers.Conv2D(\n",
    "        filters=F3, kernel_size=(1, 1), strides=(1, 1), padding='valid',\n",
    "        name = conv_name_base + '2c'\n",
    "    )(X)\n",
    "    X = tf.keras.layers.BatchNormalization(axis=3, name=bn_name_base + '2c')(X)\n",
    "    \n",
    "    X = tf.keras.layers.Add()([X, X_shortcut])\n",
    "    X = tf.keras.layers.Activation('mish')(X)\n",
    "    \n",
    "    return X"
   ]
  },
  {
   "cell_type": "code",
   "execution_count": 4,
   "id": "municipal-insert",
   "metadata": {},
   "outputs": [],
   "source": [
    "def convolutional_block(X, f, filters, stage, block, s=2):\n",
    "    '''\n",
    "    Implementation of an identity block \n",
    "    \n",
    "    Args:\n",
    "        X(input_tensor) : input tensor of shape (m, n_h_prev, n_w_prev, n_c_prev)\n",
    "        f(int): this is to specify the kernel size or window for the main path within the identiy block\n",
    "        filters(list): list of integers to define for the Conv layers of the main path\n",
    "        stage(int): use to name the layers depending of their position\n",
    "        block(str): used to name layer, depending on their position in the network\n",
    "        s(int): The stride to be used\n",
    "        \n",
    "    Returns:\n",
    "        X(tensor): output of the identity block, tensor of shape (n_H, n_W, n_C)\n",
    "    '''\n",
    "    \n",
    "    # Start by defining name base\n",
    "    conv_name_base = 'res' + str(stage) + block + '_branch'\n",
    "    bn_name_base = 'bn' + str(stage) + block + '_branch'\n",
    "    \n",
    "    F1, F2, F3 = filters\n",
    "    \n",
    "    X_shortcut = X\n",
    "    \n",
    "    # First component of main path\n",
    "    X = tf.keras.layers.Conv2D(F1, (1, 1), strides=(s, s), name=conv_name_base + '2a')(X)\n",
    "    X = tf.keras.layers.BatchNormalization(axis=3, name = bn_name_base + '2a')(X)\n",
    "    X = tf.keras.layers.Activation('mish')(X)\n",
    "    \n",
    "    # Second component of main path\n",
    "    X = tf.keras.layers.Conv2D(filters = F2, kernel_size = (f, f), strides = (1,1), padding = 'same', name = conv_name_base + '2b')(X)\n",
    "    X = tf.keras.layers.BatchNormalization(axis=3, name=bn_name_base + '2b')(X)\n",
    "    X = tf.keras.layers.Activation('mish')(X)\n",
    "    \n",
    "    # Third component of main path\n",
    "    X = tf.keras.layers.Conv2D(filters=F3, kernel_size=(1, 1),  strides = (1,1), padding = 'valid', name = conv_name_base + '2c')(X)\n",
    "    X = tf.keras.layers.BatchNormalization(axis=3, name= bn_name_base + '2c')(X)\n",
    "    \n",
    "    # Shortcut path\n",
    "    X_shortcut = tf.keras.layers.Conv2D(filters=F3, kernel_size = (1, 1), strides = (s,s), padding='valid', name = conv_name_base + '1',)(X_shortcut)\n",
    "    X_shortcut = tf.keras.layers.BatchNormalization(axis=3,  name = bn_name_base + '1')(X_shortcut)\n",
    "    \n",
    "    # Final step: Add shortcut value to main path, and pass it through a RELU activation \n",
    "    X = tf.keras.layers.Add()([X, X_shortcut])\n",
    "    X = tf.keras.layers.Activation('mish')(X)\n",
    "    \n",
    "    return X"
   ]
  },
  {
   "cell_type": "markdown",
   "id": "metric-uganda",
   "metadata": {},
   "source": [
    "# Build Resnet \n",
    "![alt text](https://iq.opengenus.org/content/images/2020/03/Screenshot-from-2020-03-20-15-49-54.png \"Title\")\n",
    "- Using the 2 blocks above build resnet architecture\n",
    "- Resnet consists of the following\n",
    "    - Input Layer\n",
    "    - Zero Padding (Pad 3x3)\n",
    "    - Stage 1 (Any number of layers with resnet all start with stage 1)\n",
    "        - 2d Conv with a filter of 64, kernel size (7, 7) with a stride of (2, 2)\n",
    "        - Batch norm channels axis of the inpu\n",
    "        - Max Pooling with (3, 3) window and a stride of (2, 2)\n",
    "    \n",
    "    <b>Note: Resnet layers change here but mainly use convolutional blocks as a beggining and follow by x sets of identity block with filters (stages 2 -5, check diagram for more info)</b>\n",
    "    - Stage 2\n",
    "        - Convolutional block uses three set of filters of size [64, 64, 256] \"f\" is 3, \"s\" is 1 and the block is \"a\".\n",
    "        - Then followed by 3 identity blocks \n",
    "    - Stage 3\n",
    "    - Stage 4\n",
    "    - Stage 5\n",
    "    - Avg Pooling a window of shape (2, 2) \n",
    "    - Flatten Layer\n",
    "    - Finally a FC Layer (Dense) according to the number of classes then softmax for the final activation function"
   ]
  },
  {
   "cell_type": "code",
   "execution_count": 5,
   "id": "instrumental-agent",
   "metadata": {},
   "outputs": [],
   "source": [
    "def Resnet50(input_shape=(224, 224, 3)):\n",
    "    # Input layer\n",
    "    input_layer = tf.keras.layers.Input(input_shape, name='input_layer')\n",
    "    \n",
    "    # padding\n",
    "    X = tf.keras.layers.ZeroPadding2D((3, 3))(input_layer)\n",
    "    \n",
    "    # Stage 1\n",
    "    X = tf.keras.layers.Conv2D(64, (7, 7), strides=(2, 2), name='conv1')(X)\n",
    "    X = tf.keras.layers.BatchNormalization(axis=3, name='bn_conv1')(X)\n",
    "    X = tf.keras.layers.Activation('mish')(X)\n",
    "    X = tf.keras.layers.MaxPooling2D((3, 3), strides=(2, 2))(X)\n",
    "    \n",
    "    # Stage 2\n",
    "    X = convolutional_block(X, f=3, filters=[64, 64, 256], stage=2, block='a', s=1)\n",
    "    X = identity_block(X, 3, [64, 64, 256], stage=2, block='b')\n",
    "    X = identity_block(X, 3, [64, 64, 256], stage=2, block='c')\n",
    "    \n",
    "    # Stage 3\n",
    "    X = convolutional_block(X, f=3, filters=[128, 128, 512], stage=3, block='a', s=2)\n",
    "    X = identity_block(X, 3, [128, 128, 512], stage=3, block='b')\n",
    "    X = identity_block(X, 3, [128, 128, 512], stage=3, block='c')\n",
    "    X = identity_block(X, 3, [128, 128, 512], stage=3, block='d')\n",
    "    \n",
    "    # Stage 4\n",
    "    X = convolutional_block(X, f=3, filters=[256, 256, 1024], stage=4, block='a', s=2)\n",
    "    X = identity_block(X, 3, [256, 256, 1024], stage=4, block='b')\n",
    "    X = identity_block(X, 3, [256, 256, 1024], stage=4, block='c')\n",
    "    X = identity_block(X, 3, [256, 256, 1024], stage=4, block='d')\n",
    "    X = identity_block(X, 3, [256, 256, 1024], stage=4, block='e')\n",
    "    X = identity_block(X, 3, [256, 256, 1024], stage=4, block='f')\n",
    "    \n",
    "    # Stage 5\n",
    "    X = convolutional_block(X, f=3, filters=[512, 512, 2048], stage=5, block='a', s=2)\n",
    "    X = identity_block(X, 3, [512, 512, 2048], stage=5, block='b')\n",
    "    X = identity_block(X, 3, [512, 512, 2048], stage=5, block='c')\n",
    "    \n",
    "    X = tf.keras.layers.GlobalAveragePooling2D()(X)\n",
    "    \n",
    "    return tf.keras.Model(inputs=input_layer, outputs=X, name='Resnet50')"
   ]
  },
  {
   "cell_type": "markdown",
   "id": "hundred-northern",
   "metadata": {},
   "source": [
    "# Build a model using resnet"
   ]
  },
  {
   "cell_type": "code",
   "execution_count": 6,
   "id": "metallic-flush",
   "metadata": {},
   "outputs": [],
   "source": [
    "model = tf.keras.Sequential()\n",
    "model.add(Resnet50(input_shape=(28, 28, 1)))\n",
    "model.add(tf.keras.layers.Dense(64))\n",
    "model.add(tf.keras.layers.Dropout(0.5))\n",
    "model.add(tf.keras.layers.Activation('mish'))\n",
    "model.add(tf.keras.layers.Dense(10))\n",
    "model.add(tf.keras.layers.Activation('softmax'))"
   ]
  },
  {
   "cell_type": "code",
   "execution_count": 7,
   "id": "drawn-cartridge",
   "metadata": {},
   "outputs": [
    {
     "name": "stdout",
     "output_type": "stream",
     "text": [
      "Model: \"sequential\"\n",
      "_________________________________________________________________\n",
      "Layer (type)                 Output Shape              Param #   \n",
      "=================================================================\n",
      "Resnet50 (Functional)        (None, 2048)              23581440  \n",
      "_________________________________________________________________\n",
      "dense (Dense)                (None, 64)                131136    \n",
      "_________________________________________________________________\n",
      "dropout (Dropout)            (None, 64)                0         \n",
      "_________________________________________________________________\n",
      "activation_49 (Activation)   (None, 64)                0         \n",
      "_________________________________________________________________\n",
      "dense_1 (Dense)              (None, 10)                650       \n",
      "_________________________________________________________________\n",
      "activation_50 (Activation)   (None, 10)                0         \n",
      "=================================================================\n",
      "Total params: 23,713,226\n",
      "Trainable params: 23,660,106\n",
      "Non-trainable params: 53,120\n",
      "_________________________________________________________________\n"
     ]
    }
   ],
   "source": [
    "model.summary()"
   ]
  },
  {
   "cell_type": "markdown",
   "id": "limiting-worry",
   "metadata": {},
   "source": [
    "# Lets train on mnist"
   ]
  },
  {
   "cell_type": "code",
   "execution_count": 8,
   "id": "identical-wellington",
   "metadata": {},
   "outputs": [],
   "source": [
    "from matplotlib import pyplot as plt"
   ]
  },
  {
   "cell_type": "code",
   "execution_count": 9,
   "id": "agricultural-bread",
   "metadata": {},
   "outputs": [],
   "source": [
    "(train_img, train_label), (test_img, test_label) = tf.keras.datasets.mnist.load_data()"
   ]
  },
  {
   "cell_type": "code",
   "execution_count": 10,
   "id": "generic-ready",
   "metadata": {},
   "outputs": [],
   "source": [
    "def preproc_img(img, label):\n",
    "    img = tf.cast(img, tf.float32)\n",
    "    img = img / 255.\n",
    "    \n",
    "    return img, tf.one_hot(label, 10)"
   ]
  },
  {
   "cell_type": "code",
   "execution_count": 11,
   "id": "similar-knowing",
   "metadata": {},
   "outputs": [],
   "source": [
    "epochs = 10\n",
    "batch_size = 128\n",
    "learning_rate = 1e-4"
   ]
  },
  {
   "cell_type": "code",
   "execution_count": 12,
   "id": "developing-exhibition",
   "metadata": {},
   "outputs": [],
   "source": [
    "train_data = tf.data.Dataset.from_tensor_slices((train_img, train_label))\n",
    "train_data = train_data.map(preproc_img)\n",
    "train_data = train_data.cache()\n",
    "train_data = train_data.shuffle(len(train_img))\n",
    "train_data = train_data.repeat(1)\n",
    "train_data = train_data.batch(batch_size, drop_remainder=True)\n",
    "train_data = train_data.prefetch(tf.data.experimental.AUTOTUNE)"
   ]
  },
  {
   "cell_type": "code",
   "execution_count": 13,
   "id": "desperate-formation",
   "metadata": {},
   "outputs": [],
   "source": [
    "test_data = tf.data.Dataset.from_tensor_slices((test_img, test_label))\n",
    "test_data = test_data.map(preproc_img)\n",
    "test_data = test_data.cache()\n",
    "train_data = train_data.repeat(1)\n",
    "test_data = test_data.batch(batch_size)\n",
    "test_data = test_data.prefetch(tf.data.experimental.AUTOTUNE)"
   ]
  },
  {
   "cell_type": "code",
   "execution_count": 14,
   "id": "checked-barrier",
   "metadata": {},
   "outputs": [],
   "source": [
    "model.compile(\n",
    "    tf.keras.optimizers.Adam(learning_rate=learning_rate),\n",
    "    loss='categorical_crossentropy', metrics=['accuracy']\n",
    ")"
   ]
  },
  {
   "cell_type": "code",
   "execution_count": 15,
   "id": "ready-crowd",
   "metadata": {},
   "outputs": [
    {
     "name": "stdout",
     "output_type": "stream",
     "text": [
      "Epoch 1/10\n",
      "  2/468 [..............................] - ETA: 13s - loss: 3.8370 - accuracy: 0.0977WARNING:tensorflow:Callbacks method `on_train_batch_end` is slow compared to the batch time (batch time: 0.0205s vs `on_train_batch_end` time: 0.0384s). Check your callbacks.\n",
      "468/468 [==============================] - 28s 60ms/step - loss: 0.8303 - accuracy: 0.7388 - val_loss: 1.1922 - val_accuracy: 0.6147\n",
      "Epoch 2/10\n",
      "468/468 [==============================] - 29s 62ms/step - loss: 0.1831 - accuracy: 0.9503 - val_loss: 0.1363 - val_accuracy: 0.9652\n",
      "Epoch 3/10\n",
      "468/468 [==============================] - 29s 62ms/step - loss: 0.0939 - accuracy: 0.9760 - val_loss: 0.1119 - val_accuracy: 0.9727\n",
      "Epoch 4/10\n",
      "468/468 [==============================] - 29s 62ms/step - loss: 0.0607 - accuracy: 0.9839 - val_loss: 0.1347 - val_accuracy: 0.9725\n",
      "Epoch 5/10\n",
      "468/468 [==============================] - 29s 62ms/step - loss: 0.0547 - accuracy: 0.9861 - val_loss: 0.1305 - val_accuracy: 0.9759\n",
      "Epoch 6/10\n",
      "468/468 [==============================] - 29s 62ms/step - loss: 0.0460 - accuracy: 0.9881 - val_loss: 0.1208 - val_accuracy: 0.9762\n",
      "Epoch 7/10\n",
      "468/468 [==============================] - 29s 62ms/step - loss: 0.0400 - accuracy: 0.9899 - val_loss: 0.0913 - val_accuracy: 0.9830\n",
      "Epoch 8/10\n",
      "468/468 [==============================] - 29s 61ms/step - loss: 0.0285 - accuracy: 0.9926 - val_loss: 0.1027 - val_accuracy: 0.9815\n",
      "Epoch 9/10\n",
      "468/468 [==============================] - 29s 62ms/step - loss: 0.0333 - accuracy: 0.9915 - val_loss: 0.1028 - val_accuracy: 0.9817\n",
      "Epoch 10/10\n",
      "468/468 [==============================] - 29s 62ms/step - loss: 0.0291 - accuracy: 0.9929 - val_loss: 0.0880 - val_accuracy: 0.9842\n"
     ]
    }
   ],
   "source": [
    "history = model.fit(\n",
    "    train_data,\n",
    "    epochs=epochs,\n",
    "    validation_data=test_data\n",
    ")"
   ]
  },
  {
   "cell_type": "code",
   "execution_count": 16,
   "id": "close-reasoning",
   "metadata": {
    "scrolled": true
   },
   "outputs": [
    {
     "data": {
      "image/png": "[encoded data removed]",
      "text/plain": [
       "<Figure size 1080x720 with 2 Axes>"
      ]
     },
     "metadata": {
      "needs_background": "light"
     },
     "output_type": "display_data"
    }
   ],
   "source": [
    "plt.figure(figsize=(15, 10))\n",
    "plt.subplot(221)\n",
    "plt.title('Loss History')\n",
    "plt.plot(history.history['loss'], '--bo',label='loss')\n",
    "plt.plot(history.history['val_loss'], '--yo',label='val_loss')\n",
    "plt.xlabel('Epoch')\n",
    "plt.ylabel('Loss')\n",
    "plt.legend()\n",
    "\n",
    "plt.subplot(222)\n",
    "plt.title('Accuracy History')\n",
    "plt.plot(history.history['accuracy'], '--bo',label='acc')\n",
    "plt.plot(history.history['val_accuracy'], '--yo',label='val_acc')\n",
    "plt.xlabel('Epoch')\n",
    "plt.ylabel('Accuracy')\n",
    "plt.legend()\n",
    "plt.show()"
   ]
  },
  {
   "cell_type": "markdown",
   "id": "above-bridges",
   "metadata": {},
   "source": [
    "# Evaluate"
   ]
  },
  {
   "cell_type": "code",
   "execution_count": 17,
   "id": "dying-class",
   "metadata": {},
   "outputs": [],
   "source": [
    "from sklearn.metrics import classification_report, confusion_matrix, matthews_corrcoef\n",
    "import seaborn as sns"
   ]
  },
  {
   "cell_type": "code",
   "execution_count": 18,
   "id": "intense-video",
   "metadata": {},
   "outputs": [],
   "source": [
    "y_true = test_label"
   ]
  },
  {
   "cell_type": "code",
   "execution_count": 19,
   "id": "placed-shelter",
   "metadata": {},
   "outputs": [],
   "source": [
    "y_pred = model.predict(test_data)"
   ]
  },
  {
   "cell_type": "code",
   "execution_count": 20,
   "id": "innocent-individual",
   "metadata": {},
   "outputs": [],
   "source": [
    "y_pred = y_pred.argmax(axis=1)"
   ]
  },
  {
   "cell_type": "code",
   "execution_count": 21,
   "id": "suburban-conviction",
   "metadata": {
    "scrolled": false
   },
   "outputs": [
    {
     "name": "stdout",
     "output_type": "stream",
     "text": [
      "              precision    recall  f1-score   support\n",
      "\n",
      "           0       0.98      0.99      0.99       980\n",
      "           1       0.99      1.00      0.99      1135\n",
      "           2       0.99      0.98      0.99      1032\n",
      "           3       0.98      0.98      0.98      1010\n",
      "           4       0.98      0.99      0.99       982\n",
      "           5       0.99      0.97      0.98       892\n",
      "           6       0.99      0.98      0.99       958\n",
      "           7       0.97      0.99      0.98      1028\n",
      "           8       0.99      0.98      0.98       974\n",
      "           9       0.98      0.98      0.98      1009\n",
      "\n",
      "    accuracy                           0.98     10000\n",
      "   macro avg       0.98      0.98      0.98     10000\n",
      "weighted avg       0.98      0.98      0.98     10000\n",
      "\n",
      "MCC :98.24\n"
     ]
    },
    {
     "data": {
      "text/plain": [
       "<AxesSubplot:>"
      ]
     },
     "execution_count": 21,
     "metadata": {},
     "output_type": "execute_result"
    },
    {
     "data": {
      "image/png": "[encoded data removed]",
      "text/plain": [
       "<Figure size 1080x720 with 2 Axes>"
      ]
     },
     "metadata": {
      "needs_background": "light"
     },
     "output_type": "display_data"
    }
   ],
   "source": [
    "print(classification_report(y_true, y_pred))\n",
    "print('MCC :{}'.format(round(matthews_corrcoef(y_true, y_pred) * 100, 2)))\n",
    "conf_mat = confusion_matrix(y_true, y_pred)\n",
    "\n",
    "plt.figure(figsize=(15, 10))\n",
    "sns.heatmap(\n",
    "    conf_mat, annot=True, fmt=''\n",
    ")"
   ]
  }
 ],
 "metadata": {
  "kernelspec": {
   "display_name": "Python 3",
   "language": "python",
   "name": "python3"
  },
  "language_info": {
   "codemirror_mode": {
    "name": "ipython",
    "version": 3
   },
   "file_extension": ".py",
   "mimetype": "text/x-python",
   "name": "python",
   "nbconvert_exporter": "python",
   "pygments_lexer": "ipython3",
   "version": "3.8.5"
  }
 },
 "nbformat": 4,
 "nbformat_minor": 5
}
